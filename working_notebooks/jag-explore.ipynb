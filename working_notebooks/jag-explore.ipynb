{
 "cells": [
  {
   "cell_type": "code",
   "execution_count": 1,
   "metadata": {},
   "outputs": [],
   "source": [
    "import env\n",
    "import seaborn as sns\n",
    "import pandas as pd\n",
    "import numpy as np\n",
    "import matplotlib.pyplot as plt\n",
    "import warnings\n",
    "warnings.filterwarnings(\"ignore\")\n",
    "import wrangle"
   ]
  },
  {
   "cell_type": "code",
   "execution_count": 3,
   "metadata": {},
   "outputs": [
    {
     "name": "stdout",
     "output_type": "stream",
     "text": [
      "Reading data from SQL server....\n",
      "(This usually takes a while...)\n",
      "Data read.\n",
      "Adding number of programs completed...\n",
      "Converting datatypes and reindexing on datetime....\n",
      "Adding columns for days after graduation and program name.\n",
      "Data is acquired, prepared, and wrangling complete.\n"
     ]
    }
   ],
   "source": [
    "df=wrangle.wrangle()"
   ]
  },
  {
   "cell_type": "code",
   "execution_count": 4,
   "metadata": {},
   "outputs": [],
   "source": [
    "df.to_csv('initial_pull.csv')"
   ]
  },
  {
   "cell_type": "code",
   "execution_count": 3,
   "metadata": {},
   "outputs": [
    {
     "data": {
      "text/html": [
       "<div>\n",
       "<style scoped>\n",
       "    .dataframe tbody tr th:only-of-type {\n",
       "        vertical-align: middle;\n",
       "    }\n",
       "\n",
       "    .dataframe tbody tr th {\n",
       "        vertical-align: top;\n",
       "    }\n",
       "\n",
       "    .dataframe thead th {\n",
       "        text-align: right;\n",
       "    }\n",
       "</style>\n",
       "<table border=\"1\" class=\"dataframe\">\n",
       "  <thead>\n",
       "    <tr style=\"text-align: right;\">\n",
       "      <th></th>\n",
       "      <th>date</th>\n",
       "      <th>time</th>\n",
       "      <th>endpoint</th>\n",
       "      <th>user_id</th>\n",
       "      <th>cohort_id_x</th>\n",
       "      <th>source_ip</th>\n",
       "      <th>cohort_name</th>\n",
       "      <th>cohort_start</th>\n",
       "      <th>cohort_end</th>\n",
       "      <th>program_id</th>\n",
       "      <th>number_of_classes</th>\n",
       "      <th>date_time</th>\n",
       "      <th>days_after_grad</th>\n",
       "      <th>program</th>\n",
       "    </tr>\n",
       "    <tr>\n",
       "      <th>date_time</th>\n",
       "      <th></th>\n",
       "      <th></th>\n",
       "      <th></th>\n",
       "      <th></th>\n",
       "      <th></th>\n",
       "      <th></th>\n",
       "      <th></th>\n",
       "      <th></th>\n",
       "      <th></th>\n",
       "      <th></th>\n",
       "      <th></th>\n",
       "      <th></th>\n",
       "      <th></th>\n",
       "      <th></th>\n",
       "    </tr>\n",
       "  </thead>\n",
       "  <tbody>\n",
       "    <tr>\n",
       "      <th>2018-01-26 09:55:03</th>\n",
       "      <td>2018-01-26</td>\n",
       "      <td>09:55:03</td>\n",
       "      <td>/</td>\n",
       "      <td>1</td>\n",
       "      <td>8.0</td>\n",
       "      <td>97.105.19.61</td>\n",
       "      <td>Hampton</td>\n",
       "      <td>2015-09-22</td>\n",
       "      <td>2016-02-06</td>\n",
       "      <td>1</td>\n",
       "      <td>2</td>\n",
       "      <td>2018-01-26 09:55:03</td>\n",
       "      <td>720 days</td>\n",
       "      <td>php_web_dev</td>\n",
       "    </tr>\n",
       "    <tr>\n",
       "      <th>2018-01-26 09:56:02</th>\n",
       "      <td>2018-01-26</td>\n",
       "      <td>09:56:02</td>\n",
       "      <td>java-ii</td>\n",
       "      <td>1</td>\n",
       "      <td>8.0</td>\n",
       "      <td>97.105.19.61</td>\n",
       "      <td>Hampton</td>\n",
       "      <td>2015-09-22</td>\n",
       "      <td>2016-02-06</td>\n",
       "      <td>1</td>\n",
       "      <td>2</td>\n",
       "      <td>2018-01-26 09:56:02</td>\n",
       "      <td>720 days</td>\n",
       "      <td>php_web_dev</td>\n",
       "    </tr>\n",
       "    <tr>\n",
       "      <th>2018-01-26 09:56:05</th>\n",
       "      <td>2018-01-26</td>\n",
       "      <td>09:56:05</td>\n",
       "      <td>java-ii/object-oriented-programming</td>\n",
       "      <td>1</td>\n",
       "      <td>8.0</td>\n",
       "      <td>97.105.19.61</td>\n",
       "      <td>Hampton</td>\n",
       "      <td>2015-09-22</td>\n",
       "      <td>2016-02-06</td>\n",
       "      <td>1</td>\n",
       "      <td>2</td>\n",
       "      <td>2018-01-26 09:56:05</td>\n",
       "      <td>720 days</td>\n",
       "      <td>php_web_dev</td>\n",
       "    </tr>\n",
       "    <tr>\n",
       "      <th>2018-01-26 09:56:06</th>\n",
       "      <td>2018-01-26</td>\n",
       "      <td>09:56:06</td>\n",
       "      <td>slides/object_oriented_programming</td>\n",
       "      <td>1</td>\n",
       "      <td>8.0</td>\n",
       "      <td>97.105.19.61</td>\n",
       "      <td>Hampton</td>\n",
       "      <td>2015-09-22</td>\n",
       "      <td>2016-02-06</td>\n",
       "      <td>1</td>\n",
       "      <td>2</td>\n",
       "      <td>2018-01-26 09:56:06</td>\n",
       "      <td>720 days</td>\n",
       "      <td>php_web_dev</td>\n",
       "    </tr>\n",
       "    <tr>\n",
       "      <th>2018-01-26 10:40:15</th>\n",
       "      <td>2018-01-26</td>\n",
       "      <td>10:40:15</td>\n",
       "      <td>javascript-i/functions</td>\n",
       "      <td>1</td>\n",
       "      <td>8.0</td>\n",
       "      <td>97.105.19.61</td>\n",
       "      <td>Hampton</td>\n",
       "      <td>2015-09-22</td>\n",
       "      <td>2016-02-06</td>\n",
       "      <td>1</td>\n",
       "      <td>2</td>\n",
       "      <td>2018-01-26 10:40:15</td>\n",
       "      <td>720 days</td>\n",
       "      <td>php_web_dev</td>\n",
       "    </tr>\n",
       "  </tbody>\n",
       "</table>\n",
       "</div>"
      ],
      "text/plain": [
       "                          date      time                             endpoint  \\\n",
       "date_time                                                                       \n",
       "2018-01-26 09:55:03 2018-01-26  09:55:03                                    /   \n",
       "2018-01-26 09:56:02 2018-01-26  09:56:02                              java-ii   \n",
       "2018-01-26 09:56:05 2018-01-26  09:56:05  java-ii/object-oriented-programming   \n",
       "2018-01-26 09:56:06 2018-01-26  09:56:06   slides/object_oriented_programming   \n",
       "2018-01-26 10:40:15 2018-01-26  10:40:15               javascript-i/functions   \n",
       "\n",
       "                     user_id  cohort_id_x     source_ip cohort_name  \\\n",
       "date_time                                                             \n",
       "2018-01-26 09:55:03        1          8.0  97.105.19.61     Hampton   \n",
       "2018-01-26 09:56:02        1          8.0  97.105.19.61     Hampton   \n",
       "2018-01-26 09:56:05        1          8.0  97.105.19.61     Hampton   \n",
       "2018-01-26 09:56:06        1          8.0  97.105.19.61     Hampton   \n",
       "2018-01-26 10:40:15        1          8.0  97.105.19.61     Hampton   \n",
       "\n",
       "                    cohort_start cohort_end  program_id  number_of_classes  \\\n",
       "date_time                                                                    \n",
       "2018-01-26 09:55:03   2015-09-22 2016-02-06           1                  2   \n",
       "2018-01-26 09:56:02   2015-09-22 2016-02-06           1                  2   \n",
       "2018-01-26 09:56:05   2015-09-22 2016-02-06           1                  2   \n",
       "2018-01-26 09:56:06   2015-09-22 2016-02-06           1                  2   \n",
       "2018-01-26 10:40:15   2015-09-22 2016-02-06           1                  2   \n",
       "\n",
       "                              date_time days_after_grad      program  \n",
       "date_time                                                             \n",
       "2018-01-26 09:55:03 2018-01-26 09:55:03        720 days  php_web_dev  \n",
       "2018-01-26 09:56:02 2018-01-26 09:56:02        720 days  php_web_dev  \n",
       "2018-01-26 09:56:05 2018-01-26 09:56:05        720 days  php_web_dev  \n",
       "2018-01-26 09:56:06 2018-01-26 09:56:06        720 days  php_web_dev  \n",
       "2018-01-26 10:40:15 2018-01-26 10:40:15        720 days  php_web_dev  "
      ]
     },
     "execution_count": 3,
     "metadata": {},
     "output_type": "execute_result"
    }
   ],
   "source": [
    "df.head()"
   ]
  },
  {
   "cell_type": "code",
   "execution_count": 11,
   "metadata": {},
   "outputs": [
    {
     "data": {
      "text/plain": [
       "Lassen        9587\n",
       "Arches        8890\n",
       "Olympic       4954\n",
       "Kings         2845\n",
       "Hampton       1712\n",
       "Quincy        1237\n",
       "Glacier        598\n",
       "Joshua         302\n",
       "Ike            253\n",
       "Badlands        93\n",
       "Franklin        72\n",
       "Denali           4\n",
       "Everglades       1\n",
       "Name: cohort_name, dtype: int64"
      ]
     },
     "execution_count": 11,
     "metadata": {},
     "output_type": "execute_result"
    }
   ],
   "source": [
    "df[df.program_id==1].cohort_name.value_counts()"
   ]
  },
  {
   "cell_type": "code",
   "execution_count": 12,
   "metadata": {},
   "outputs": [
    {
     "data": {
      "text/plain": [
       "Staff         84031\n",
       "Ceres         40730\n",
       "Zion          38096\n",
       "Jupiter       37109\n",
       "Fortuna       36902\n",
       "Voyageurs     35636\n",
       "Ganymede      33844\n",
       "Apex          33568\n",
       "Deimos        32888\n",
       "Teddy         30926\n",
       "Hyperion      29855\n",
       "Betelgeuse    29356\n",
       "Ulysses       28534\n",
       "Europa        28033\n",
       "Xanadu        27749\n",
       "Wrangell      25586\n",
       "Andromeda     25359\n",
       "Kalypso       23691\n",
       "Yosemite      20743\n",
       "Bash          17713\n",
       "Luna          16623\n",
       "Marco         16397\n",
       "Sequoia        7444\n",
       "Neptune        7276\n",
       "Pinnacles      2158\n",
       "Oberon         1672\n",
       "Niagara         755\n",
       "Mammoth         691\n",
       "Name: cohort_name, dtype: int64"
      ]
     },
     "execution_count": 12,
     "metadata": {},
     "output_type": "execute_result"
    }
   ],
   "source": [
    "df[df.program_id==2].cohort_name.value_counts()"
   ]
  },
  {
   "cell_type": "code",
   "execution_count": 17,
   "metadata": {},
   "outputs": [
    {
     "data": {
      "text/plain": [
       "Darden      32015\n",
       "Bayes       26538\n",
       "Curie       21582\n",
       "Easley      14715\n",
       "Florence     8562\n",
       "Name: cohort_name, dtype: int64"
      ]
     },
     "execution_count": 17,
     "metadata": {},
     "output_type": "execute_result"
    }
   ],
   "source": [
    "df[df.program_id==3].cohort_name.value_counts()"
   ]
  },
  {
   "cell_type": "markdown",
   "metadata": {},
   "source": [
    "### Lets look at individual student access per DS Cohort\n",
    "\n",
    "- Go ahead and make a dataframe for each"
   ]
  },
  {
   "cell_type": "code",
   "execution_count": 24,
   "metadata": {},
   "outputs": [
    {
     "data": {
      "text/html": [
       "<div>\n",
       "<style scoped>\n",
       "    .dataframe tbody tr th:only-of-type {\n",
       "        vertical-align: middle;\n",
       "    }\n",
       "\n",
       "    .dataframe tbody tr th {\n",
       "        vertical-align: top;\n",
       "    }\n",
       "\n",
       "    .dataframe thead th {\n",
       "        text-align: right;\n",
       "    }\n",
       "</style>\n",
       "<table border=\"1\" class=\"dataframe\">\n",
       "  <thead>\n",
       "    <tr style=\"text-align: right;\">\n",
       "      <th></th>\n",
       "      <th>date</th>\n",
       "      <th>time</th>\n",
       "      <th>endpoint</th>\n",
       "      <th>user_id</th>\n",
       "      <th>cohort_id_x</th>\n",
       "      <th>source_ip</th>\n",
       "      <th>cohort_name</th>\n",
       "      <th>cohort_start</th>\n",
       "      <th>cohort_end</th>\n",
       "      <th>program_id</th>\n",
       "      <th>number_of_classes</th>\n",
       "      <th>date_time</th>\n",
       "      <th>days_after_grad</th>\n",
       "      <th>program</th>\n",
       "    </tr>\n",
       "    <tr>\n",
       "      <th>date_time</th>\n",
       "      <th></th>\n",
       "      <th></th>\n",
       "      <th></th>\n",
       "      <th></th>\n",
       "      <th></th>\n",
       "      <th></th>\n",
       "      <th></th>\n",
       "      <th></th>\n",
       "      <th></th>\n",
       "      <th></th>\n",
       "      <th></th>\n",
       "      <th></th>\n",
       "      <th></th>\n",
       "      <th></th>\n",
       "    </tr>\n",
       "  </thead>\n",
       "  <tbody>\n",
       "    <tr>\n",
       "      <th>2018-01-26 09:55:03</th>\n",
       "      <td>2018-01-26</td>\n",
       "      <td>09:55:03</td>\n",
       "      <td>/</td>\n",
       "      <td>1</td>\n",
       "      <td>8.0</td>\n",
       "      <td>97.105.19.61</td>\n",
       "      <td>Hampton</td>\n",
       "      <td>2015-09-22</td>\n",
       "      <td>2016-02-06</td>\n",
       "      <td>1</td>\n",
       "      <td>2</td>\n",
       "      <td>2018-01-26 09:55:03</td>\n",
       "      <td>720 days</td>\n",
       "      <td>php_web_dev</td>\n",
       "    </tr>\n",
       "    <tr>\n",
       "      <th>2018-01-26 09:56:02</th>\n",
       "      <td>2018-01-26</td>\n",
       "      <td>09:56:02</td>\n",
       "      <td>java-ii</td>\n",
       "      <td>1</td>\n",
       "      <td>8.0</td>\n",
       "      <td>97.105.19.61</td>\n",
       "      <td>Hampton</td>\n",
       "      <td>2015-09-22</td>\n",
       "      <td>2016-02-06</td>\n",
       "      <td>1</td>\n",
       "      <td>2</td>\n",
       "      <td>2018-01-26 09:56:02</td>\n",
       "      <td>720 days</td>\n",
       "      <td>php_web_dev</td>\n",
       "    </tr>\n",
       "    <tr>\n",
       "      <th>2018-01-26 09:56:05</th>\n",
       "      <td>2018-01-26</td>\n",
       "      <td>09:56:05</td>\n",
       "      <td>java-ii/object-oriented-programming</td>\n",
       "      <td>1</td>\n",
       "      <td>8.0</td>\n",
       "      <td>97.105.19.61</td>\n",
       "      <td>Hampton</td>\n",
       "      <td>2015-09-22</td>\n",
       "      <td>2016-02-06</td>\n",
       "      <td>1</td>\n",
       "      <td>2</td>\n",
       "      <td>2018-01-26 09:56:05</td>\n",
       "      <td>720 days</td>\n",
       "      <td>php_web_dev</td>\n",
       "    </tr>\n",
       "    <tr>\n",
       "      <th>2018-01-26 09:56:06</th>\n",
       "      <td>2018-01-26</td>\n",
       "      <td>09:56:06</td>\n",
       "      <td>slides/object_oriented_programming</td>\n",
       "      <td>1</td>\n",
       "      <td>8.0</td>\n",
       "      <td>97.105.19.61</td>\n",
       "      <td>Hampton</td>\n",
       "      <td>2015-09-22</td>\n",
       "      <td>2016-02-06</td>\n",
       "      <td>1</td>\n",
       "      <td>2</td>\n",
       "      <td>2018-01-26 09:56:06</td>\n",
       "      <td>720 days</td>\n",
       "      <td>php_web_dev</td>\n",
       "    </tr>\n",
       "    <tr>\n",
       "      <th>2018-01-26 10:40:15</th>\n",
       "      <td>2018-01-26</td>\n",
       "      <td>10:40:15</td>\n",
       "      <td>javascript-i/functions</td>\n",
       "      <td>1</td>\n",
       "      <td>8.0</td>\n",
       "      <td>97.105.19.61</td>\n",
       "      <td>Hampton</td>\n",
       "      <td>2015-09-22</td>\n",
       "      <td>2016-02-06</td>\n",
       "      <td>1</td>\n",
       "      <td>2</td>\n",
       "      <td>2018-01-26 10:40:15</td>\n",
       "      <td>720 days</td>\n",
       "      <td>php_web_dev</td>\n",
       "    </tr>\n",
       "  </tbody>\n",
       "</table>\n",
       "</div>"
      ],
      "text/plain": [
       "                          date      time                             endpoint  \\\n",
       "date_time                                                                       \n",
       "2018-01-26 09:55:03 2018-01-26  09:55:03                                    /   \n",
       "2018-01-26 09:56:02 2018-01-26  09:56:02                              java-ii   \n",
       "2018-01-26 09:56:05 2018-01-26  09:56:05  java-ii/object-oriented-programming   \n",
       "2018-01-26 09:56:06 2018-01-26  09:56:06   slides/object_oriented_programming   \n",
       "2018-01-26 10:40:15 2018-01-26  10:40:15               javascript-i/functions   \n",
       "\n",
       "                     user_id  cohort_id_x     source_ip cohort_name  \\\n",
       "date_time                                                             \n",
       "2018-01-26 09:55:03        1          8.0  97.105.19.61     Hampton   \n",
       "2018-01-26 09:56:02        1          8.0  97.105.19.61     Hampton   \n",
       "2018-01-26 09:56:05        1          8.0  97.105.19.61     Hampton   \n",
       "2018-01-26 09:56:06        1          8.0  97.105.19.61     Hampton   \n",
       "2018-01-26 10:40:15        1          8.0  97.105.19.61     Hampton   \n",
       "\n",
       "                    cohort_start cohort_end  program_id  number_of_classes  \\\n",
       "date_time                                                                    \n",
       "2018-01-26 09:55:03   2015-09-22 2016-02-06           1                  2   \n",
       "2018-01-26 09:56:02   2015-09-22 2016-02-06           1                  2   \n",
       "2018-01-26 09:56:05   2015-09-22 2016-02-06           1                  2   \n",
       "2018-01-26 09:56:06   2015-09-22 2016-02-06           1                  2   \n",
       "2018-01-26 10:40:15   2015-09-22 2016-02-06           1                  2   \n",
       "\n",
       "                              date_time days_after_grad      program  \n",
       "date_time                                                             \n",
       "2018-01-26 09:55:03 2018-01-26 09:55:03        720 days  php_web_dev  \n",
       "2018-01-26 09:56:02 2018-01-26 09:56:02        720 days  php_web_dev  \n",
       "2018-01-26 09:56:05 2018-01-26 09:56:05        720 days  php_web_dev  \n",
       "2018-01-26 09:56:06 2018-01-26 09:56:06        720 days  php_web_dev  \n",
       "2018-01-26 10:40:15 2018-01-26 10:40:15        720 days  php_web_dev  "
      ]
     },
     "execution_count": 24,
     "metadata": {},
     "output_type": "execute_result"
    }
   ],
   "source": [
    "df.head()"
   ]
  },
  {
   "cell_type": "code",
   "execution_count": 25,
   "metadata": {},
   "outputs": [
    {
     "data": {
      "text/html": [
       "<div>\n",
       "<style scoped>\n",
       "    .dataframe tbody tr th:only-of-type {\n",
       "        vertical-align: middle;\n",
       "    }\n",
       "\n",
       "    .dataframe tbody tr th {\n",
       "        vertical-align: top;\n",
       "    }\n",
       "\n",
       "    .dataframe thead th {\n",
       "        text-align: right;\n",
       "    }\n",
       "</style>\n",
       "<table border=\"1\" class=\"dataframe\">\n",
       "  <thead>\n",
       "    <tr style=\"text-align: right;\">\n",
       "      <th></th>\n",
       "      <th>date</th>\n",
       "      <th>time</th>\n",
       "      <th>endpoint</th>\n",
       "      <th>user_id</th>\n",
       "      <th>cohort_id_x</th>\n",
       "      <th>source_ip</th>\n",
       "      <th>cohort_name</th>\n",
       "      <th>cohort_start</th>\n",
       "      <th>cohort_end</th>\n",
       "      <th>program_id</th>\n",
       "      <th>number_of_classes</th>\n",
       "      <th>date_time</th>\n",
       "      <th>days_after_grad</th>\n",
       "      <th>program</th>\n",
       "    </tr>\n",
       "    <tr>\n",
       "      <th>date_time</th>\n",
       "      <th></th>\n",
       "      <th></th>\n",
       "      <th></th>\n",
       "      <th></th>\n",
       "      <th></th>\n",
       "      <th></th>\n",
       "      <th></th>\n",
       "      <th></th>\n",
       "      <th></th>\n",
       "      <th></th>\n",
       "      <th></th>\n",
       "      <th></th>\n",
       "      <th></th>\n",
       "      <th></th>\n",
       "    </tr>\n",
       "  </thead>\n",
       "  <tbody>\n",
       "  </tbody>\n",
       "</table>\n",
       "</div>"
      ],
      "text/plain": [
       "Empty DataFrame\n",
       "Columns: [date, time, endpoint, user_id, cohort_id_x, source_ip, cohort_name, cohort_start, cohort_end, program_id, number_of_classes, date_time, days_after_grad, program]\n",
       "Index: []"
      ]
     },
     "execution_count": 25,
     "metadata": {},
     "output_type": "execute_result"
    }
   ],
   "source": [
    "df[df.cohort_name ==' Bayes']"
   ]
  },
  {
   "cell_type": "code",
   "execution_count": 26,
   "metadata": {},
   "outputs": [],
   "source": [
    "bayes = df[df.cohort_name =='Bayes']\n",
    "curie = df[df.cohort_name =='Curie']\n",
    "darden = df[df.cohort_name =='Darden']\n",
    "easley = df[df.cohort_name =='Easley']\n",
    "florence = df[df.cohort_name =='Florence']\n"
   ]
  },
  {
   "cell_type": "code",
   "execution_count": 33,
   "metadata": {},
   "outputs": [
    {
     "name": "stdout",
     "output_type": "stream",
     "text": [
      "(26538, 14)\n",
      "(21582, 14)\n",
      "(32015, 14)\n",
      "(14715, 14)\n",
      "(8562, 14)\n"
     ]
    }
   ],
   "source": [
    "print(bayes.shape)\n",
    "print(curie.shape)\n",
    "print(darden.shape)\n",
    "print(easley.shape)\n",
    "print(florence.shape)"
   ]
  },
  {
   "cell_type": "code",
   "execution_count": 34,
   "metadata": {},
   "outputs": [
    {
     "name": "stdout",
     "output_type": "stream",
     "text": [
      "23\n",
      "21\n",
      "29\n",
      "17\n",
      "21\n"
     ]
    }
   ],
   "source": [
    "# Get cohort counts\n",
    "print(len(bayes.user_id.unique()))\n",
    "print(len(curie.user_id.unique()))\n",
    "print(len(darden.user_id.unique()))\n",
    "print(len(easley.user_id.unique()))\n",
    "print(len(florence.user_id.unique()))"
   ]
  },
  {
   "cell_type": "markdown",
   "metadata": {},
   "source": [
    "### Lets look at Bayes traffic by user"
   ]
  },
  {
   "cell_type": "code",
   "execution_count": 35,
   "metadata": {},
   "outputs": [
    {
     "data": {
      "text/html": [
       "<div>\n",
       "<style scoped>\n",
       "    .dataframe tbody tr th:only-of-type {\n",
       "        vertical-align: middle;\n",
       "    }\n",
       "\n",
       "    .dataframe tbody tr th {\n",
       "        vertical-align: top;\n",
       "    }\n",
       "\n",
       "    .dataframe thead th {\n",
       "        text-align: right;\n",
       "    }\n",
       "</style>\n",
       "<table border=\"1\" class=\"dataframe\">\n",
       "  <thead>\n",
       "    <tr style=\"text-align: right;\">\n",
       "      <th></th>\n",
       "      <th>date</th>\n",
       "      <th>time</th>\n",
       "      <th>endpoint</th>\n",
       "      <th>user_id</th>\n",
       "      <th>cohort_id_x</th>\n",
       "      <th>source_ip</th>\n",
       "      <th>cohort_name</th>\n",
       "      <th>cohort_start</th>\n",
       "      <th>cohort_end</th>\n",
       "      <th>program_id</th>\n",
       "      <th>number_of_classes</th>\n",
       "      <th>date_time</th>\n",
       "      <th>days_after_grad</th>\n",
       "      <th>program</th>\n",
       "    </tr>\n",
       "    <tr>\n",
       "      <th>date_time</th>\n",
       "      <th></th>\n",
       "      <th></th>\n",
       "      <th></th>\n",
       "      <th></th>\n",
       "      <th></th>\n",
       "      <th></th>\n",
       "      <th></th>\n",
       "      <th></th>\n",
       "      <th></th>\n",
       "      <th></th>\n",
       "      <th></th>\n",
       "      <th></th>\n",
       "      <th></th>\n",
       "      <th></th>\n",
       "    </tr>\n",
       "  </thead>\n",
       "  <tbody>\n",
       "    <tr>\n",
       "      <th>2018-01-26 09:55:03</th>\n",
       "      <td>2018-01-26</td>\n",
       "      <td>09:55:03</td>\n",
       "      <td>/</td>\n",
       "      <td>1</td>\n",
       "      <td>8.0</td>\n",
       "      <td>97.105.19.61</td>\n",
       "      <td>Hampton</td>\n",
       "      <td>2015-09-22</td>\n",
       "      <td>2016-02-06</td>\n",
       "      <td>1</td>\n",
       "      <td>2</td>\n",
       "      <td>2018-01-26 09:55:03</td>\n",
       "      <td>720 days</td>\n",
       "      <td>php_web_dev</td>\n",
       "    </tr>\n",
       "    <tr>\n",
       "      <th>2018-01-26 09:56:02</th>\n",
       "      <td>2018-01-26</td>\n",
       "      <td>09:56:02</td>\n",
       "      <td>java-ii</td>\n",
       "      <td>1</td>\n",
       "      <td>8.0</td>\n",
       "      <td>97.105.19.61</td>\n",
       "      <td>Hampton</td>\n",
       "      <td>2015-09-22</td>\n",
       "      <td>2016-02-06</td>\n",
       "      <td>1</td>\n",
       "      <td>2</td>\n",
       "      <td>2018-01-26 09:56:02</td>\n",
       "      <td>720 days</td>\n",
       "      <td>php_web_dev</td>\n",
       "    </tr>\n",
       "    <tr>\n",
       "      <th>2018-01-26 09:56:05</th>\n",
       "      <td>2018-01-26</td>\n",
       "      <td>09:56:05</td>\n",
       "      <td>java-ii/object-oriented-programming</td>\n",
       "      <td>1</td>\n",
       "      <td>8.0</td>\n",
       "      <td>97.105.19.61</td>\n",
       "      <td>Hampton</td>\n",
       "      <td>2015-09-22</td>\n",
       "      <td>2016-02-06</td>\n",
       "      <td>1</td>\n",
       "      <td>2</td>\n",
       "      <td>2018-01-26 09:56:05</td>\n",
       "      <td>720 days</td>\n",
       "      <td>php_web_dev</td>\n",
       "    </tr>\n",
       "    <tr>\n",
       "      <th>2018-01-26 09:56:06</th>\n",
       "      <td>2018-01-26</td>\n",
       "      <td>09:56:06</td>\n",
       "      <td>slides/object_oriented_programming</td>\n",
       "      <td>1</td>\n",
       "      <td>8.0</td>\n",
       "      <td>97.105.19.61</td>\n",
       "      <td>Hampton</td>\n",
       "      <td>2015-09-22</td>\n",
       "      <td>2016-02-06</td>\n",
       "      <td>1</td>\n",
       "      <td>2</td>\n",
       "      <td>2018-01-26 09:56:06</td>\n",
       "      <td>720 days</td>\n",
       "      <td>php_web_dev</td>\n",
       "    </tr>\n",
       "    <tr>\n",
       "      <th>2018-01-26 10:40:15</th>\n",
       "      <td>2018-01-26</td>\n",
       "      <td>10:40:15</td>\n",
       "      <td>javascript-i/functions</td>\n",
       "      <td>1</td>\n",
       "      <td>8.0</td>\n",
       "      <td>97.105.19.61</td>\n",
       "      <td>Hampton</td>\n",
       "      <td>2015-09-22</td>\n",
       "      <td>2016-02-06</td>\n",
       "      <td>1</td>\n",
       "      <td>2</td>\n",
       "      <td>2018-01-26 10:40:15</td>\n",
       "      <td>720 days</td>\n",
       "      <td>php_web_dev</td>\n",
       "    </tr>\n",
       "  </tbody>\n",
       "</table>\n",
       "</div>"
      ],
      "text/plain": [
       "                          date      time                             endpoint  \\\n",
       "date_time                                                                       \n",
       "2018-01-26 09:55:03 2018-01-26  09:55:03                                    /   \n",
       "2018-01-26 09:56:02 2018-01-26  09:56:02                              java-ii   \n",
       "2018-01-26 09:56:05 2018-01-26  09:56:05  java-ii/object-oriented-programming   \n",
       "2018-01-26 09:56:06 2018-01-26  09:56:06   slides/object_oriented_programming   \n",
       "2018-01-26 10:40:15 2018-01-26  10:40:15               javascript-i/functions   \n",
       "\n",
       "                     user_id  cohort_id_x     source_ip cohort_name  \\\n",
       "date_time                                                             \n",
       "2018-01-26 09:55:03        1          8.0  97.105.19.61     Hampton   \n",
       "2018-01-26 09:56:02        1          8.0  97.105.19.61     Hampton   \n",
       "2018-01-26 09:56:05        1          8.0  97.105.19.61     Hampton   \n",
       "2018-01-26 09:56:06        1          8.0  97.105.19.61     Hampton   \n",
       "2018-01-26 10:40:15        1          8.0  97.105.19.61     Hampton   \n",
       "\n",
       "                    cohort_start cohort_end  program_id  number_of_classes  \\\n",
       "date_time                                                                    \n",
       "2018-01-26 09:55:03   2015-09-22 2016-02-06           1                  2   \n",
       "2018-01-26 09:56:02   2015-09-22 2016-02-06           1                  2   \n",
       "2018-01-26 09:56:05   2015-09-22 2016-02-06           1                  2   \n",
       "2018-01-26 09:56:06   2015-09-22 2016-02-06           1                  2   \n",
       "2018-01-26 10:40:15   2015-09-22 2016-02-06           1                  2   \n",
       "\n",
       "                              date_time days_after_grad      program  \n",
       "date_time                                                             \n",
       "2018-01-26 09:55:03 2018-01-26 09:55:03        720 days  php_web_dev  \n",
       "2018-01-26 09:56:02 2018-01-26 09:56:02        720 days  php_web_dev  \n",
       "2018-01-26 09:56:05 2018-01-26 09:56:05        720 days  php_web_dev  \n",
       "2018-01-26 09:56:06 2018-01-26 09:56:06        720 days  php_web_dev  \n",
       "2018-01-26 10:40:15 2018-01-26 10:40:15        720 days  php_web_dev  "
      ]
     },
     "execution_count": 35,
     "metadata": {},
     "output_type": "execute_result"
    }
   ],
   "source": [
    "df.head()"
   ]
  },
  {
   "cell_type": "code",
   "execution_count": 40,
   "metadata": {},
   "outputs": [
    {
     "data": {
      "text/html": [
       "<div>\n",
       "<style scoped>\n",
       "    .dataframe tbody tr th:only-of-type {\n",
       "        vertical-align: middle;\n",
       "    }\n",
       "\n",
       "    .dataframe tbody tr th {\n",
       "        vertical-align: top;\n",
       "    }\n",
       "\n",
       "    .dataframe thead th {\n",
       "        text-align: right;\n",
       "    }\n",
       "</style>\n",
       "<table border=\"1\" class=\"dataframe\">\n",
       "  <thead>\n",
       "    <tr style=\"text-align: right;\">\n",
       "      <th></th>\n",
       "      <th>date</th>\n",
       "      <th>time</th>\n",
       "      <th>endpoint</th>\n",
       "      <th>user_id</th>\n",
       "      <th>cohort_id_x</th>\n",
       "      <th>source_ip</th>\n",
       "      <th>cohort_name</th>\n",
       "      <th>cohort_start</th>\n",
       "      <th>cohort_end</th>\n",
       "      <th>program_id</th>\n",
       "      <th>number_of_classes</th>\n",
       "      <th>date_time</th>\n",
       "      <th>days_after_grad</th>\n",
       "      <th>program</th>\n",
       "    </tr>\n",
       "    <tr>\n",
       "      <th>date_time</th>\n",
       "      <th></th>\n",
       "      <th></th>\n",
       "      <th></th>\n",
       "      <th></th>\n",
       "      <th></th>\n",
       "      <th></th>\n",
       "      <th></th>\n",
       "      <th></th>\n",
       "      <th></th>\n",
       "      <th></th>\n",
       "      <th></th>\n",
       "      <th></th>\n",
       "      <th></th>\n",
       "      <th></th>\n",
       "    </tr>\n",
       "  </thead>\n",
       "  <tbody>\n",
       "    <tr>\n",
       "      <th>2019-08-20 09:39:58</th>\n",
       "      <td>2019-08-20</td>\n",
       "      <td>09:39:58</td>\n",
       "      <td>/</td>\n",
       "      <td>466</td>\n",
       "      <td>34.0</td>\n",
       "      <td>97.105.19.58</td>\n",
       "      <td>Bayes</td>\n",
       "      <td>2019-08-19</td>\n",
       "      <td>2020-01-30</td>\n",
       "      <td>3</td>\n",
       "      <td>1</td>\n",
       "      <td>2019-08-20 09:39:58</td>\n",
       "      <td>-163 days</td>\n",
       "      <td>data_science</td>\n",
       "    </tr>\n",
       "    <tr>\n",
       "      <th>2019-08-20 10:50:06</th>\n",
       "      <td>2019-08-20</td>\n",
       "      <td>10:50:06</td>\n",
       "      <td>1-fundamentals/1.1-intro-to-data-science</td>\n",
       "      <td>466</td>\n",
       "      <td>34.0</td>\n",
       "      <td>97.105.19.58</td>\n",
       "      <td>Bayes</td>\n",
       "      <td>2019-08-19</td>\n",
       "      <td>2020-01-30</td>\n",
       "      <td>3</td>\n",
       "      <td>1</td>\n",
       "      <td>2019-08-20 10:50:06</td>\n",
       "      <td>-163 days</td>\n",
       "      <td>data_science</td>\n",
       "    </tr>\n",
       "    <tr>\n",
       "      <th>2019-08-20 10:50:06</th>\n",
       "      <td>2019-08-20</td>\n",
       "      <td>10:50:06</td>\n",
       "      <td>1-fundamentals/modern-data-scientist.jpg</td>\n",
       "      <td>466</td>\n",
       "      <td>34.0</td>\n",
       "      <td>97.105.19.58</td>\n",
       "      <td>Bayes</td>\n",
       "      <td>2019-08-19</td>\n",
       "      <td>2020-01-30</td>\n",
       "      <td>3</td>\n",
       "      <td>1</td>\n",
       "      <td>2019-08-20 10:50:06</td>\n",
       "      <td>-163 days</td>\n",
       "      <td>data_science</td>\n",
       "    </tr>\n",
       "    <tr>\n",
       "      <th>2019-08-20 10:50:06</th>\n",
       "      <td>2019-08-20</td>\n",
       "      <td>10:50:06</td>\n",
       "      <td>1-fundamentals/AI-ML-DL-timeline.jpg</td>\n",
       "      <td>466</td>\n",
       "      <td>34.0</td>\n",
       "      <td>97.105.19.58</td>\n",
       "      <td>Bayes</td>\n",
       "      <td>2019-08-19</td>\n",
       "      <td>2020-01-30</td>\n",
       "      <td>3</td>\n",
       "      <td>1</td>\n",
       "      <td>2019-08-20 10:50:06</td>\n",
       "      <td>-163 days</td>\n",
       "      <td>data_science</td>\n",
       "    </tr>\n",
       "    <tr>\n",
       "      <th>2019-08-20 14:39:07</th>\n",
       "      <td>2019-08-20</td>\n",
       "      <td>14:39:07</td>\n",
       "      <td>/</td>\n",
       "      <td>466</td>\n",
       "      <td>34.0</td>\n",
       "      <td>97.105.19.58</td>\n",
       "      <td>Bayes</td>\n",
       "      <td>2019-08-19</td>\n",
       "      <td>2020-01-30</td>\n",
       "      <td>3</td>\n",
       "      <td>1</td>\n",
       "      <td>2019-08-20 14:39:07</td>\n",
       "      <td>-163 days</td>\n",
       "      <td>data_science</td>\n",
       "    </tr>\n",
       "  </tbody>\n",
       "</table>\n",
       "</div>"
      ],
      "text/plain": [
       "                          date      time  \\\n",
       "date_time                                  \n",
       "2019-08-20 09:39:58 2019-08-20  09:39:58   \n",
       "2019-08-20 10:50:06 2019-08-20  10:50:06   \n",
       "2019-08-20 10:50:06 2019-08-20  10:50:06   \n",
       "2019-08-20 10:50:06 2019-08-20  10:50:06   \n",
       "2019-08-20 14:39:07 2019-08-20  14:39:07   \n",
       "\n",
       "                                                     endpoint  user_id  \\\n",
       "date_time                                                                \n",
       "2019-08-20 09:39:58                                         /      466   \n",
       "2019-08-20 10:50:06  1-fundamentals/1.1-intro-to-data-science      466   \n",
       "2019-08-20 10:50:06  1-fundamentals/modern-data-scientist.jpg      466   \n",
       "2019-08-20 10:50:06      1-fundamentals/AI-ML-DL-timeline.jpg      466   \n",
       "2019-08-20 14:39:07                                         /      466   \n",
       "\n",
       "                     cohort_id_x     source_ip cohort_name cohort_start  \\\n",
       "date_time                                                                 \n",
       "2019-08-20 09:39:58         34.0  97.105.19.58       Bayes   2019-08-19   \n",
       "2019-08-20 10:50:06         34.0  97.105.19.58       Bayes   2019-08-19   \n",
       "2019-08-20 10:50:06         34.0  97.105.19.58       Bayes   2019-08-19   \n",
       "2019-08-20 10:50:06         34.0  97.105.19.58       Bayes   2019-08-19   \n",
       "2019-08-20 14:39:07         34.0  97.105.19.58       Bayes   2019-08-19   \n",
       "\n",
       "                    cohort_end  program_id  number_of_classes  \\\n",
       "date_time                                                       \n",
       "2019-08-20 09:39:58 2020-01-30           3                  1   \n",
       "2019-08-20 10:50:06 2020-01-30           3                  1   \n",
       "2019-08-20 10:50:06 2020-01-30           3                  1   \n",
       "2019-08-20 10:50:06 2020-01-30           3                  1   \n",
       "2019-08-20 14:39:07 2020-01-30           3                  1   \n",
       "\n",
       "                              date_time days_after_grad       program  \n",
       "date_time                                                              \n",
       "2019-08-20 09:39:58 2019-08-20 09:39:58       -163 days  data_science  \n",
       "2019-08-20 10:50:06 2019-08-20 10:50:06       -163 days  data_science  \n",
       "2019-08-20 10:50:06 2019-08-20 10:50:06       -163 days  data_science  \n",
       "2019-08-20 10:50:06 2019-08-20 10:50:06       -163 days  data_science  \n",
       "2019-08-20 14:39:07 2019-08-20 14:39:07       -163 days  data_science  "
      ]
     },
     "execution_count": 40,
     "metadata": {},
     "output_type": "execute_result"
    }
   ],
   "source": [
    "bayes.head()"
   ]
  },
  {
   "cell_type": "code",
   "execution_count": 39,
   "metadata": {},
   "outputs": [
    {
     "data": {
      "text/plain": [
       "<AxesSubplot:xlabel='date_time'>"
      ]
     },
     "execution_count": 39,
     "metadata": {},
     "output_type": "execute_result"
    },
    {
     "data": {
      "image/png": "[encoded data removed]",
      "text/plain": [
       "<Figure size 432x288 with 1 Axes>"
      ]
     },
     "metadata": {
      "needs_background": "light"
     },
     "output_type": "display_data"
    }
   ],
   "source": [
    "bayes['endpoint'].resample('d').count().plot()\n"
   ]
  },
  {
   "cell_type": "code",
   "execution_count": 44,
   "metadata": {},
   "outputs": [
    {
     "data": {
      "image/png": "[encoded data removed]",
      "text/plain": [
       "<Figure size 864x432 with 1 Axes>"
      ]
     },
     "metadata": {
      "needs_background": "light"
     },
     "output_type": "display_data"
    }
   ],
   "source": [
    "fig, ax =plt.subplots(figsize=(12,6))\n",
    "\n",
    "x = bayes.date\n",
    "y = bayes['endpoint'].resample('d').count()\n",
    "\n",
    "ax.plot(y)\n",
    "\n",
    "plt.show()"
   ]
  },
  {
   "cell_type": "code",
   "execution_count": null,
   "metadata": {},
   "outputs": [],
   "source": [
    "\n",
    "ax.set_xlim(data['Dates'].min(), data['Dates'].max())\n"
   ]
  },
  {
   "cell_type": "code",
   "execution_count": 38,
   "metadata": {},
   "outputs": [
    {
     "data": {
      "text/plain": [
       "date_time\n",
       "2019-08-20    218\n",
       "2019-08-21    621\n",
       "2019-08-22    476\n",
       "2019-08-23    165\n",
       "2019-08-24     50\n",
       "             ... \n",
       "2021-04-17     10\n",
       "2021-04-18      7\n",
       "2021-04-19     15\n",
       "2021-04-20     26\n",
       "2021-04-21      2\n",
       "Freq: D, Name: endpoint, Length: 611, dtype: int64"
      ]
     },
     "execution_count": 38,
     "metadata": {},
     "output_type": "execute_result"
    }
   ],
   "source": [
    "bayes_pages"
   ]
  },
  {
   "cell_type": "code",
   "execution_count": null,
   "metadata": {},
   "outputs": [],
   "source": [
    "sns.lineplot(x='date' y='endpoint')"
   ]
  },
  {
   "cell_type": "code",
   "execution_count": 14,
   "metadata": {},
   "outputs": [
    {
     "data": {
      "text/plain": [
       "Apollo    5\n",
       "Name: cohort_name, dtype: int64"
      ]
     },
     "execution_count": 14,
     "metadata": {},
     "output_type": "execute_result"
    }
   ],
   "source": [
    "df[df.program_id==4].cohort_name.value_counts()"
   ]
  },
  {
   "cell_type": "code",
   "execution_count": 15,
   "metadata": {},
   "outputs": [
    {
     "data": {
      "text/plain": [
       "2    713365\n",
       "3    103412\n",
       "1     30548\n",
       "4         5\n",
       "Name: program_id, dtype: int64"
      ]
     },
     "execution_count": 15,
     "metadata": {},
     "output_type": "execute_result"
    }
   ],
   "source": [
    "df.program_id.value_counts()"
   ]
  },
  {
   "cell_type": "code",
   "execution_count": 16,
   "metadata": {},
   "outputs": [
    {
     "data": {
      "text/plain": [
       "/                                                 45854\n",
       "javascript-i                                      18203\n",
       "toc                                               17591\n",
       "search/search_index.json                          17534\n",
       "java-iii                                          13166\n",
       "                                                  ...  \n",
       "5-stats                                               1\n",
       "java-ii/file-op                                       1\n",
       "html-css/img/favicon.ico                              1\n",
       "content/examples/constructors-destructors.html        1\n",
       "where                                                 1\n",
       "Name: endpoint, Length: 2224, dtype: int64"
      ]
     },
     "execution_count": 16,
     "metadata": {},
     "output_type": "execute_result"
    }
   ],
   "source": [
    "df.endpoint.value_counts()"
   ]
  },
  {
   "cell_type": "code",
   "execution_count": null,
   "metadata": {},
   "outputs": [],
   "source": []
  }
 ],
 "metadata": {
  "interpreter": {
   "hash": "38cca0c38332a56087b24af0bc80247f4fced29cb4f7f437d91dc159adec9c4e"
  },
  "kernelspec": {
   "display_name": "Python 3.8.12 64-bit ('base': conda)",
   "language": "python",
   "name": "python3"
  },
  "language_info": {
   "codemirror_mode": {
    "name": "ipython",
    "version": 3
   },
   "file_extension": ".py",
   "mimetype": "text/x-python",
   "name": "python",
   "nbconvert_exporter": "python",
   "pygments_lexer": "ipython3",
   "version": "3.8.12"
  },
  "orig_nbformat": 4
 },
 "nbformat": 4,
 "nbformat_minor": 2
}
