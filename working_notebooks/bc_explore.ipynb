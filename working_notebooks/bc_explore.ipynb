{
 "cells": [
  {
   "cell_type": "code",
   "execution_count": 2,
   "id": "4439ad83",
   "metadata": {},
   "outputs": [],
   "source": [
    "import env\n",
    "import seaborn as sns\n",
    "import pandas as pd\n",
    "import numpy as np\n",
    "import matplotlib.pyplot as plt\n",
    "import warnings\n",
    "warnings.filterwarnings(\"ignore\")\n",
    "import wrangle\n",
    "import os\n",
    "import sys"
   ]
  },
  {
   "cell_type": "code",
   "execution_count": 3,
   "id": "a9cf2f9f",
   "metadata": {},
   "outputs": [
    {
     "name": "stdout",
     "output_type": "stream",
     "text": [
      "Reading data from SQL server....\n",
      "(This usually takes a while...)\n",
      "Data read.\n",
      "Adding number of programs completed...\n",
      "Converting datatypes and reindexing on datetime....\n",
      "Adding columns for days after graduation and program name.\n",
      "Data is acquired, prepared, and wrangling complete.\n"
     ]
    }
   ],
   "source": [
    "df=wrangle.wrangle()"
   ]
  },
  {
   "cell_type": "code",
   "execution_count": 5,
   "id": "0f7b2a2f",
   "metadata": {},
   "outputs": [],
   "source": [
    "df.to_csv('sql_pull.csv')"
   ]
  },
  {
   "cell_type": "code",
   "execution_count": 6,
   "id": "c4f27c30",
   "metadata": {},
   "outputs": [
    {
     "data": {
      "text/html": [
       "<div>\n",
       "<style scoped>\n",
       "    .dataframe tbody tr th:only-of-type {\n",
       "        vertical-align: middle;\n",
       "    }\n",
       "\n",
       "    .dataframe tbody tr th {\n",
       "        vertical-align: top;\n",
       "    }\n",
       "\n",
       "    .dataframe thead th {\n",
       "        text-align: right;\n",
       "    }\n",
       "</style>\n",
       "<table border=\"1\" class=\"dataframe\">\n",
       "  <thead>\n",
       "    <tr style=\"text-align: right;\">\n",
       "      <th></th>\n",
       "      <th>date</th>\n",
       "      <th>time</th>\n",
       "      <th>endpoint</th>\n",
       "      <th>user_id</th>\n",
       "      <th>cohort_id_x</th>\n",
       "      <th>source_ip</th>\n",
       "      <th>cohort_name</th>\n",
       "      <th>cohort_start</th>\n",
       "      <th>cohort_end</th>\n",
       "      <th>program_id</th>\n",
       "      <th>number_of_classes</th>\n",
       "      <th>date_time</th>\n",
       "      <th>days_after_grad</th>\n",
       "      <th>program</th>\n",
       "    </tr>\n",
       "    <tr>\n",
       "      <th>date_time</th>\n",
       "      <th></th>\n",
       "      <th></th>\n",
       "      <th></th>\n",
       "      <th></th>\n",
       "      <th></th>\n",
       "      <th></th>\n",
       "      <th></th>\n",
       "      <th></th>\n",
       "      <th></th>\n",
       "      <th></th>\n",
       "      <th></th>\n",
       "      <th></th>\n",
       "      <th></th>\n",
       "      <th></th>\n",
       "    </tr>\n",
       "  </thead>\n",
       "  <tbody>\n",
       "    <tr>\n",
       "      <th>2018-01-26 09:55:03</th>\n",
       "      <td>2018-01-26</td>\n",
       "      <td>09:55:03</td>\n",
       "      <td>/</td>\n",
       "      <td>1</td>\n",
       "      <td>8.0</td>\n",
       "      <td>97.105.19.61</td>\n",
       "      <td>Hampton</td>\n",
       "      <td>2015-09-22</td>\n",
       "      <td>2016-02-06</td>\n",
       "      <td>1</td>\n",
       "      <td>2</td>\n",
       "      <td>2018-01-26 09:55:03</td>\n",
       "      <td>720 days</td>\n",
       "      <td>php_web_dev</td>\n",
       "    </tr>\n",
       "    <tr>\n",
       "      <th>2018-01-26 09:56:02</th>\n",
       "      <td>2018-01-26</td>\n",
       "      <td>09:56:02</td>\n",
       "      <td>java-ii</td>\n",
       "      <td>1</td>\n",
       "      <td>8.0</td>\n",
       "      <td>97.105.19.61</td>\n",
       "      <td>Hampton</td>\n",
       "      <td>2015-09-22</td>\n",
       "      <td>2016-02-06</td>\n",
       "      <td>1</td>\n",
       "      <td>2</td>\n",
       "      <td>2018-01-26 09:56:02</td>\n",
       "      <td>720 days</td>\n",
       "      <td>php_web_dev</td>\n",
       "    </tr>\n",
       "    <tr>\n",
       "      <th>2018-01-26 09:56:05</th>\n",
       "      <td>2018-01-26</td>\n",
       "      <td>09:56:05</td>\n",
       "      <td>java-ii/object-oriented-programming</td>\n",
       "      <td>1</td>\n",
       "      <td>8.0</td>\n",
       "      <td>97.105.19.61</td>\n",
       "      <td>Hampton</td>\n",
       "      <td>2015-09-22</td>\n",
       "      <td>2016-02-06</td>\n",
       "      <td>1</td>\n",
       "      <td>2</td>\n",
       "      <td>2018-01-26 09:56:05</td>\n",
       "      <td>720 days</td>\n",
       "      <td>php_web_dev</td>\n",
       "    </tr>\n",
       "    <tr>\n",
       "      <th>2018-01-26 09:56:06</th>\n",
       "      <td>2018-01-26</td>\n",
       "      <td>09:56:06</td>\n",
       "      <td>slides/object_oriented_programming</td>\n",
       "      <td>1</td>\n",
       "      <td>8.0</td>\n",
       "      <td>97.105.19.61</td>\n",
       "      <td>Hampton</td>\n",
       "      <td>2015-09-22</td>\n",
       "      <td>2016-02-06</td>\n",
       "      <td>1</td>\n",
       "      <td>2</td>\n",
       "      <td>2018-01-26 09:56:06</td>\n",
       "      <td>720 days</td>\n",
       "      <td>php_web_dev</td>\n",
       "    </tr>\n",
       "    <tr>\n",
       "      <th>2018-01-26 10:40:15</th>\n",
       "      <td>2018-01-26</td>\n",
       "      <td>10:40:15</td>\n",
       "      <td>javascript-i/functions</td>\n",
       "      <td>1</td>\n",
       "      <td>8.0</td>\n",
       "      <td>97.105.19.61</td>\n",
       "      <td>Hampton</td>\n",
       "      <td>2015-09-22</td>\n",
       "      <td>2016-02-06</td>\n",
       "      <td>1</td>\n",
       "      <td>2</td>\n",
       "      <td>2018-01-26 10:40:15</td>\n",
       "      <td>720 days</td>\n",
       "      <td>php_web_dev</td>\n",
       "    </tr>\n",
       "  </tbody>\n",
       "</table>\n",
       "</div>"
      ],
      "text/plain": [
       "                          date      time                             endpoint  \\\n",
       "date_time                                                                       \n",
       "2018-01-26 09:55:03 2018-01-26  09:55:03                                    /   \n",
       "2018-01-26 09:56:02 2018-01-26  09:56:02                              java-ii   \n",
       "2018-01-26 09:56:05 2018-01-26  09:56:05  java-ii/object-oriented-programming   \n",
       "2018-01-26 09:56:06 2018-01-26  09:56:06   slides/object_oriented_programming   \n",
       "2018-01-26 10:40:15 2018-01-26  10:40:15               javascript-i/functions   \n",
       "\n",
       "                     user_id  cohort_id_x     source_ip cohort_name  \\\n",
       "date_time                                                             \n",
       "2018-01-26 09:55:03        1          8.0  97.105.19.61     Hampton   \n",
       "2018-01-26 09:56:02        1          8.0  97.105.19.61     Hampton   \n",
       "2018-01-26 09:56:05        1          8.0  97.105.19.61     Hampton   \n",
       "2018-01-26 09:56:06        1          8.0  97.105.19.61     Hampton   \n",
       "2018-01-26 10:40:15        1          8.0  97.105.19.61     Hampton   \n",
       "\n",
       "                    cohort_start cohort_end  program_id  number_of_classes  \\\n",
       "date_time                                                                    \n",
       "2018-01-26 09:55:03   2015-09-22 2016-02-06           1                  2   \n",
       "2018-01-26 09:56:02   2015-09-22 2016-02-06           1                  2   \n",
       "2018-01-26 09:56:05   2015-09-22 2016-02-06           1                  2   \n",
       "2018-01-26 09:56:06   2015-09-22 2016-02-06           1                  2   \n",
       "2018-01-26 10:40:15   2015-09-22 2016-02-06           1                  2   \n",
       "\n",
       "                              date_time days_after_grad      program  \n",
       "date_time                                                             \n",
       "2018-01-26 09:55:03 2018-01-26 09:55:03        720 days  php_web_dev  \n",
       "2018-01-26 09:56:02 2018-01-26 09:56:02        720 days  php_web_dev  \n",
       "2018-01-26 09:56:05 2018-01-26 09:56:05        720 days  php_web_dev  \n",
       "2018-01-26 09:56:06 2018-01-26 09:56:06        720 days  php_web_dev  \n",
       "2018-01-26 10:40:15 2018-01-26 10:40:15        720 days  php_web_dev  "
      ]
     },
     "execution_count": 6,
     "metadata": {},
     "output_type": "execute_result"
    }
   ],
   "source": [
    "df.head()"
   ]
  },
  {
   "cell_type": "code",
   "execution_count": 7,
   "id": "bcf2e8f6",
   "metadata": {},
   "outputs": [
    {
     "data": {
      "text/plain": [
       "(Timestamp('2021-04-21 16:44:39'), Timestamp('2018-01-26 09:55:03'))"
      ]
     },
     "execution_count": 7,
     "metadata": {},
     "output_type": "execute_result"
    }
   ],
   "source": [
    "df.index.max(), df.index.min()"
   ]
  },
  {
   "cell_type": "code",
   "execution_count": 20,
   "id": "e8a784c8",
   "metadata": {},
   "outputs": [
    {
     "data": {
      "text/plain": [
       "Darden      32015\n",
       "Bayes       26538\n",
       "Curie       21582\n",
       "Easley      14715\n",
       "Florence     8562\n",
       "Name: cohort_name, dtype: int64"
      ]
     },
     "execution_count": 20,
     "metadata": {},
     "output_type": "execute_result"
    }
   ],
   "source": [
    "df[df.program_id ==3].cohort_name.value_counts()"
   ]
  },
  {
   "cell_type": "markdown",
   "id": "b6a82d45",
   "metadata": {},
   "source": [
    "program_id 3 is full stack java\n",
    "4 is front end\n",
    "2 is full stack java??"
   ]
  },
  {
   "cell_type": "code",
   "execution_count": 24,
   "id": "880bb5a2",
   "metadata": {},
   "outputs": [
    {
     "data": {
      "text/plain": [
       "date_time\n",
       "2020-05-12 08:16:13                                 jquery/selectors\n",
       "2019-01-31 09:29:39                      mysql/relationships/indexes\n",
       "2018-07-30 12:10:46                      java-i/introduction-to-java\n",
       "2018-10-15 09:06:38                     javascript-i/bom-and-dom/dom\n",
       "2020-09-11 13:37:49                  javascript-ii/map-filter-reduce\n",
       "2018-05-31 08:31:02                      mysql/relationships/indexes\n",
       "2019-10-21 04:26:55                         6-regression/8.0-Project\n",
       "2019-09-22 09:47:51                                            mysql\n",
       "2019-08-19 21:24:44                               javascript-i/loops\n",
       "2019-10-21 09:00:16                                           jquery\n",
       "2019-02-06 14:13:00                javascript-i/javascript-with-html\n",
       "2018-05-01 02:22:34                                           spring\n",
       "2020-05-27 11:39:50                                   mysql/intellij\n",
       "2019-10-01 14:10:23              javascript-i/introduction/operators\n",
       "2020-03-11 07:44:08                                                /\n",
       "2020-08-08 09:47:41                     spring/fundamentals/security\n",
       "2020-02-14 17:36:23          html-css/css-i/selectors-and-properties\n",
       "2020-01-10 09:59:53                    jquery/events/keyboard-events\n",
       "2018-03-05 13:46:41                                                /\n",
       "2020-07-16 09:47:12               1-fundamentals/DataToAction_v2.jpg\n",
       "2020-07-08 10:05:47                                    mysql/clauses\n",
       "2019-02-06 13:10:09                  mysql/relationships/sub-queries\n",
       "2018-06-27 09:57:39                            spring/extra-features\n",
       "2020-08-09 21:29:50                       appendix/capstone-workbook\n",
       "2020-03-06 09:23:05                                           jquery\n",
       "2020-05-27 12:26:29                      java-i/introduction-to-java\n",
       "2019-06-13 00:17:34                                         appendix\n",
       "2020-03-31 15:18:19       appendix/further-reading/spring/pagination\n",
       "2018-09-05 08:36:15                             jquery/personal-site\n",
       "2020-08-02 15:22:55               appendix/code-standards/javascript\n",
       "2020-12-27 15:25:13                          classification/overview\n",
       "2019-07-30 14:30:50              java-ii/object-oriented-programming\n",
       "2019-08-28 16:09:13                             web-design/ux/layout\n",
       "2020-07-07 09:24:52      spring/fundamentals/security/authentication\n",
       "2020-10-13 18:05:12         classification/scale_features_or_not.svg\n",
       "2020-07-28 10:27:43      jquery/essential-methods/attributes-and-css\n",
       "2021-02-08 15:16:35              javascript-i/introduction/operators\n",
       "2021-01-14 15:23:36      html-css/css-i/flexbox/flexbox-fundamentals\n",
       "2021-04-12 14:22:24                                         html-css\n",
       "2020-02-05 09:19:04          java-ii/interfaces-and-abstract-classes\n",
       "2021-02-26 13:25:17                                          java-ii\n",
       "2019-02-20 09:20:47                                     javascript-i\n",
       "2020-05-26 12:37:05                                          java-ii\n",
       "2021-01-25 14:26:16                                                /\n",
       "2020-10-26 08:32:44    appendix/further-reading/mysql/host-wildcards\n",
       "2021-04-20 09:39:14                        javascript-i/conditionals\n",
       "2019-10-18 09:14:07                                  mysql/databases\n",
       "2018-03-03 14:56:43                         mkdocs/search_index.json\n",
       "2020-12-21 20:36:55                                                /\n",
       "2020-01-16 18:23:24                                              toc\n",
       "Name: endpoint, dtype: object"
      ]
     },
     "execution_count": 24,
     "metadata": {},
     "output_type": "execute_result"
    }
   ],
   "source": [
    "df.endpoint.sample(50)"
   ]
  },
  {
   "cell_type": "code",
   "execution_count": null,
   "id": "40eedcfc",
   "metadata": {},
   "outputs": [],
   "source": []
  }
 ],
 "metadata": {
  "interpreter": {
   "hash": "3067ead486e059ec00ffe7555bdb889e6e264a24dc711bf108106cc7baee8d5d"
  },
  "kernelspec": {
   "display_name": "Python 3",
   "language": "python",
   "name": "python3"
  },
  "language_info": {
   "codemirror_mode": {
    "name": "ipython",
    "version": 3
   },
   "file_extension": ".py",
   "mimetype": "text/x-python",
   "name": "python",
   "nbconvert_exporter": "python",
   "pygments_lexer": "ipython3",
   "version": "3.8.8"
  }
 },
 "nbformat": 4,
 "nbformat_minor": 5
}
