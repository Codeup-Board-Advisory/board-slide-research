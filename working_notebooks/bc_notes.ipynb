{
 "cells": [
  {
   "cell_type": "markdown",
   "id": "625df18b",
   "metadata": {},
   "source": [
    "- add items to data dictionary\n",
    "- remove .git type pages\n",
    "- in ds, anything with less than x number of views (or has only 1 view)\n"
   ]
  },
  {
   "cell_type": "markdown",
   "id": "281f403a",
   "metadata": {},
   "source": [
    "importing re"
   ]
  },
  {
   "cell_type": "code",
   "execution_count": null,
   "id": "1ecd4d9b",
   "metadata": {},
   "outputs": [],
   "source": []
  }
 ],
 "metadata": {
  "kernelspec": {
   "display_name": "Python 3",
   "language": "python",
   "name": "python3"
  },
  "language_info": {
   "codemirror_mode": {
    "name": "ipython",
    "version": 3
   },
   "file_extension": ".py",
   "mimetype": "text/x-python",
   "name": "python",
   "nbconvert_exporter": "python",
   "pygments_lexer": "ipython3",
   "version": "3.8.8"
  }
 },
 "nbformat": 4,
 "nbformat_minor": 5
}
